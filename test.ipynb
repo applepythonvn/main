{
 "cells": [
  {
   "cell_type": "code",
   "execution_count": null,
   "id": "5d087d35",
   "metadata": {},
   "outputs": [],
   "source": [
    "print(\"Tên: Nguyễn Minh Quang\")\n",
    "print(\"-\"*30)"
   ]
  },
  {
   "cell_type": "code",
   "execution_count": null,
   "id": "aa026060",
   "metadata": {},
   "outputs": [],
   "source": [
    "print(\"Tuổi: 15\")\n",
    "print(\"-\"*30)"
   ]
  },
  {
   "cell_type": "code",
   "execution_count": null,
   "id": "06a01494",
   "metadata": {},
   "outputs": [],
   "source": [
    "print(\"Ngày sinh: 09\")\n",
    "print(\"-\"*30)"
   ]
  },
  {
   "cell_type": "code",
   "execution_count": null,
   "id": "c5c75dcf",
   "metadata": {},
   "outputs": [],
   "source": [
    "print(\"Tháng sinh: 02\")\n",
    "print(\"-\"*30)"
   ]
  },
  {
   "cell_type": "code",
   "execution_count": null,
   "id": "57c1f7b8",
   "metadata": {},
   "outputs": [],
   "source": [
    "print(\"Năm sinh: 2007\")\n",
    "print(\"-\"*30)"
   ]
  },
  {
   "cell_type": "code",
   "execution_count": null,
   "id": "b760c182",
   "metadata": {},
   "outputs": [],
   "source": []
  },
  {
   "cell_type": "code",
   "execution_count": null,
   "id": "0f4fd914",
   "metadata": {},
   "outputs": [],
   "source": []
  }
 ],
 "metadata": {
  "kernelspec": {
   "display_name": "Python 3 (ipykernel)",
   "language": "python",
   "name": "python3"
  }
 },
 "nbformat": 4,
 "nbformat_minor": 5
}
